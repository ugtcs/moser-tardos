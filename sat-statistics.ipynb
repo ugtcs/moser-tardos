{
 "cells": [
  {
   "cell_type": "code",
   "execution_count": 1,
   "metadata": {},
   "outputs": [],
   "source": [
    "import numpy as np\n",
    "import pandas as pd\n",
    "import math\n",
    "import matplotlib.pyplot as plt"
   ]
  },
  {
   "cell_type": "code",
   "execution_count": 38,
   "metadata": {},
   "outputs": [],
   "source": [
    "def sample_formula(n, k, C):\n",
    "    # not used\n",
    "    deg = 2 ** k // math.e\n",
    "    formula = []\n",
    "    for i in range(C):\n",
    "        clause = []\n",
    "        next_vars = np.random.choice(np.arange(1, n+1), k, replace=False)\n",
    "        for v in next_vars:\n",
    "            if np.random.randint(2):\n",
    "                clause.append(v)\n",
    "            else:\n",
    "                clause.append(-v)\n",
    "        formula.append(clause)\n",
    "    return formula\n",
    "    "
   ]
  },
  {
   "cell_type": "code",
   "execution_count": 60,
   "metadata": {},
   "outputs": [
    {
     "data": {
      "text/plain": [
       "[[-40, 25, -12, -17, -9],\n",
       " [49, -47, -44, -46, 36],\n",
       " [13, -29, -44, 12, 9],\n",
       " [-31, 42, 11, 41, 16],\n",
       " [-31, -37, -13, -34, 5],\n",
       " [-28, -24, 2, 48, -45],\n",
       " [-32, -4, -41, 36, -48],\n",
       " [-10, -16, 17, 19, -42],\n",
       " [-44, -14, -28, 34, 27],\n",
       " [42, -11, 33, 26, 29],\n",
       " [-18, 21, -36, 40, -34],\n",
       " [20, 22, -5, 34, -50],\n",
       " [-8, -21, 10, -5, -19],\n",
       " [-5, 50, -49, -6, 12],\n",
       " [37, 33, -1, 45, -50],\n",
       " [-25, 31, -29, -34, 12],\n",
       " [-41, 40, -50, 7, -45],\n",
       " [47, -28, -41, -8, 26],\n",
       " [29, 42, -6, 31, -18],\n",
       " [-13, 5, 16, -34, 11]]"
      ]
     },
     "execution_count": 60,
     "metadata": {},
     "output_type": "execute_result"
    }
   ],
   "source": [
    "f = sample_formula(50, 5, 20)\n",
    "f"
   ]
  },
  {
   "cell_type": "code",
   "execution_count": 61,
   "metadata": {},
   "outputs": [],
   "source": [
    "def is_satisfied_ene(clause, assignment):\n",
    "    num_satisfied = 0\n",
    "    for v in clause:\n",
    "        true_v = abs(v)\n",
    "        pos = v > 0\n",
    "        assgn = assignment[true_v - 1]\n",
    "        if pos and assgn: num_satisfied += 1\n",
    "        elif not pos and not assgn: num_satisfied += 1\n",
    "    if num_satisfied == 0 or num_satisfied == len(clause):\n",
    "        return False\n",
    "    else: return True"
   ]
  },
  {
   "cell_type": "code",
   "execution_count": 62,
   "metadata": {},
   "outputs": [],
   "source": [
    "def find_unsatisfied(f, assign):\n",
    "    for clause in f:\n",
    "        if not is_satisfied_ene(clause, assign):\n",
    "            return clause\n",
    "    return None"
   ]
  },
  {
   "cell_type": "code",
   "execution_count": 71,
   "metadata": {},
   "outputs": [],
   "source": [
    "# use Moser-Tardos algorithm to sample an assignment\n",
    "def sample_satisfying_assignment(f, n):\n",
    "    assgn = np.random.choice(2, n)\n",
    "    unsatisfied_clause = True\n",
    "    while unsatisfied_clause:\n",
    "        unsatisfied_clause = find_unsatisfied(f, assgn)\n",
    "        if unsatisfied_clause:\n",
    "            vbls = [abs(v) for v in unsatisfied_clause]\n",
    "            for v in vbls:\n",
    "                assgn[v - 1] = np.random.choice(2)\n",
    "    return assgn"
   ]
  },
  {
   "cell_type": "code",
   "execution_count": 72,
   "metadata": {},
   "outputs": [
    {
     "data": {
      "text/plain": [
       "array([0, 1, 0, 0, 1, 0, 0, 0, 1, 0, 1, 1, 1, 1, 0, 0, 0, 1, 1, 0, 1, 0,\n",
       "       1, 1, 0, 1, 1, 1, 1, 0, 0, 0, 0, 1, 0, 1, 0, 1, 1, 0, 1, 0, 1, 0,\n",
       "       1, 0, 1, 1, 0, 0])"
      ]
     },
     "execution_count": 72,
     "metadata": {},
     "output_type": "execute_result"
    }
   ],
   "source": [
    "sample_satisfying_assignment(f, 50)"
   ]
  },
  {
   "cell_type": "code",
   "execution_count": 107,
   "metadata": {},
   "outputs": [],
   "source": [
    "def sample_N_assignments(f, n, N):\n",
    "    assignments = np.empty((N, n), dtype='int64')\n",
    "    for i in range(N):\n",
    "        assignments[i] = sample_satisfying_assignment(f, n)\n",
    "    return assignments\n"
   ]
  },
  {
   "cell_type": "code",
   "execution_count": 108,
   "metadata": {},
   "outputs": [],
   "source": [
    "assgns = sample_N_assignments(f, 50, 10000)"
   ]
  },
  {
   "cell_type": "code",
   "execution_count": 112,
   "metadata": {},
   "outputs": [],
   "source": [
    "num_assigned = [sum(a) for a in assgns]"
   ]
  },
  {
   "cell_type": "code",
   "execution_count": 110,
   "metadata": {},
   "outputs": [
    {
     "data": {
      "text/plain": [
       "(25.0272, 3.5675285787222504)"
      ]
     },
     "execution_count": 110,
     "metadata": {},
     "output_type": "execute_result"
    }
   ],
   "source": [
    "mu = np.mean(num_assigned)\n",
    "v = np.std(num_assigned)\n",
    "mu, v"
   ]
  },
  {
   "cell_type": "code",
   "execution_count": 77,
   "metadata": {},
   "outputs": [],
   "source": [
    "norm_hist = np.round(np.random.normal(mu, v, 10000))"
   ]
  },
  {
   "cell_type": "code",
   "execution_count": 78,
   "metadata": {},
   "outputs": [
    {
     "data": {
      "image/png": "[encoded data removed]",
      "text/plain": [
       "<Figure size 720x432 with 1 Axes>"
      ]
     },
     "metadata": {},
     "output_type": "display_data"
    }
   ],
   "source": [
    "plt.figure(figsize=(10, 6))\n",
    "plt.hist(num_assigned, alpha=0.6, bins=100)\n",
    "plt.hist(norm_hist, alpha=0.6, bins=100)\n",
    "plt.show()"
   ]
  },
  {
   "cell_type": "code",
   "execution_count": null,
   "metadata": {},
   "outputs": [],
   "source": [
    "# compute a matrix of distances in variables for formula\n",
    "def distances(f, n):\n",
    "    d = np.zeros((n, n), dtype='int64') + len(f)\n",
    "    d1 = d.copy()\n",
    "    return d"
   ]
  },
  {
   "cell_type": "code",
   "execution_count": 15,
   "metadata": {},
   "outputs": [
    {
     "data": {
      "text/plain": [
       "array([[0, 0, 0, 0, 0, 0, 0, 0, 0, 0],\n",
       "       [0, 0, 0, 0, 0, 0, 0, 0, 0, 0],\n",
       "       [0, 0, 0, 0, 0, 0, 0, 0, 0, 0],\n",
       "       [0, 0, 0, 0, 0, 0, 0, 0, 0, 0],\n",
       "       [0, 0, 0, 0, 0, 0, 0, 0, 0, 0],\n",
       "       [0, 0, 0, 0, 0, 0, 0, 0, 0, 0],\n",
       "       [0, 0, 0, 0, 0, 0, 0, 0, 0, 0],\n",
       "       [0, 0, 0, 0, 0, 0, 0, 0, 0, 0],\n",
       "       [0, 0, 0, 0, 0, 0, 0, 0, 0, 0],\n",
       "       [0, 0, 0, 0, 0, 0, 0, 0, 0, 0]])"
      ]
     },
     "execution_count": 15,
     "metadata": {},
     "output_type": "execute_result"
    }
   ],
   "source": [
    "distances(f, 10)"
   ]
  },
  {
   "cell_type": "code",
   "execution_count": null,
   "metadata": {},
   "outputs": [],
   "source": []
  }
 ],
 "metadata": {
  "kernelspec": {
   "display_name": "Python 3",
   "language": "python",
   "name": "python3"
  },
  "language_info": {
   "codemirror_mode": {
    "name": "ipython",
    "version": 3
   },
   "file_extension": ".py",
   "mimetype": "text/x-python",
   "name": "python",
   "nbconvert_exporter": "python",
   "pygments_lexer": "ipython3",
   "version": "3.7.3"
  }
 },
 "nbformat": 4,
 "nbformat_minor": 2
}
