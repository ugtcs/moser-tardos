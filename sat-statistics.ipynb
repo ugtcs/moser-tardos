{
 "cells": [
  {
   "cell_type": "code",
   "execution_count": 1,
   "metadata": {},
   "outputs": [],
   "source": [
    "import numpy as np\n",
    "import pandas as pd\n",
    "import math\n",
    "import matplotlib.pyplot as plt"
   ]
  },
  {
   "cell_type": "code",
   "execution_count": 2,
   "metadata": {},
   "outputs": [],
   "source": [
    "def sample_formula(n, k, C):\n",
    "    # not used\n",
    "    deg = 2 ** k // math.e\n",
    "    formula = []\n",
    "    for i in range(C):\n",
    "        clause = []\n",
    "        next_vars = np.random.choice(np.arange(1, n+1), k, replace=False)\n",
    "        for v in next_vars:\n",
    "            if np.random.randint(2):\n",
    "                clause.append(v)\n",
    "            else:\n",
    "                clause.append(-v)\n",
    "        formula.append(clause)\n",
    "    return formula\n",
    "    "
   ]
  },
  {
   "cell_type": "code",
   "execution_count": 3,
   "metadata": {},
   "outputs": [
    {
     "data": {
      "text/plain": [
       "[[-3, -38, -44, -18, -50],\n",
       " [-8, -13, 10, -50, 11],\n",
       " [-18, -5, 1, 47, -19],\n",
       " [21, -45, -42, 49, 37],\n",
       " [18, -9, -33, -17, 44],\n",
       " [33, 38, 34, 20, -4],\n",
       " [-47, -50, 44, -19, 40],\n",
       " [42, -14, 34, -26, -20],\n",
       " [16, -4, 15, 10, 6],\n",
       " [-35, 10, -14, -13, 8],\n",
       " [14, -42, -38, 15, 23],\n",
       " [-50, 32, 33, 5, -25],\n",
       " [45, 20, -44, -3, 7],\n",
       " [34, -35, -21, -19, -30],\n",
       " [11, 6, 35, 23, -10],\n",
       " [8, -46, -21, -35, -49],\n",
       " [38, -6, 45, -5, -10],\n",
       " [-33, -3, -9, 41, -36],\n",
       " [19, 22, 28, 7, -24],\n",
       " [31, 40, 4, -9, -30]]"
      ]
     },
     "execution_count": 3,
     "metadata": {},
     "output_type": "execute_result"
    }
   ],
   "source": [
    "f = sample_formula(50, 5, 20)\n",
    "f"
   ]
  },
  {
   "cell_type": "code",
   "execution_count": 4,
   "metadata": {},
   "outputs": [],
   "source": [
    "def is_satisfied_ene(clause, assignment):\n",
    "    num_satisfied = 0\n",
    "    for v in clause:\n",
    "        true_v = abs(v)\n",
    "        pos = v > 0\n",
    "        assgn = assignment[true_v - 1]\n",
    "        if pos and assgn: num_satisfied += 1\n",
    "        elif not pos and not assgn: num_satisfied += 1\n",
    "    if num_satisfied == 0 or num_satisfied == len(clause):\n",
    "        return False\n",
    "    else: return True"
   ]
  },
  {
   "cell_type": "code",
   "execution_count": 5,
   "metadata": {},
   "outputs": [],
   "source": [
    "def find_unsatisfied(f, assign):\n",
    "    for clause in f:\n",
    "        if not is_satisfied_ene(clause, assign):\n",
    "            return clause\n",
    "    return None"
   ]
  },
  {
   "cell_type": "code",
   "execution_count": 6,
   "metadata": {},
   "outputs": [],
   "source": [
    "# use Moser-Tardos algorithm to sample an assignment\n",
    "def sample_satisfying_assignment(f, n):\n",
    "    assgn = np.random.choice(2, n)\n",
    "    unsatisfied_clause = True\n",
    "    while unsatisfied_clause:\n",
    "        unsatisfied_clause = find_unsatisfied(f, assgn)\n",
    "        if unsatisfied_clause:\n",
    "            vbls = [abs(v) for v in unsatisfied_clause]\n",
    "            for v in vbls:\n",
    "                assgn[v - 1] = np.random.choice(2)\n",
    "    return assgn"
   ]
  },
  {
   "cell_type": "code",
   "execution_count": 7,
   "metadata": {},
   "outputs": [
    {
     "data": {
      "text/plain": [
       "array([0, 1, 0, 0, 1, 1, 1, 0, 0, 1, 0, 1, 0, 1, 1, 0, 0, 1, 0, 0, 1, 1,\n",
       "       0, 1, 1, 0, 1, 0, 0, 1, 1, 1, 1, 0, 0, 1, 0, 1, 1, 1, 1, 1, 0, 0,\n",
       "       0, 0, 0, 0, 0, 0])"
      ]
     },
     "execution_count": 7,
     "metadata": {},
     "output_type": "execute_result"
    }
   ],
   "source": [
    "sample_satisfying_assignment(f, 50)"
   ]
  },
  {
   "cell_type": "code",
   "execution_count": 8,
   "metadata": {},
   "outputs": [],
   "source": [
    "def sample_N_assignments(f, n, N):\n",
    "    assignments = np.empty((N, n), dtype='int64')\n",
    "    for i in range(N):\n",
    "        assignments[i] = sample_satisfying_assignment(f, n)\n",
    "    return assignments\n"
   ]
  },
  {
   "cell_type": "code",
   "execution_count": 16,
   "metadata": {},
   "outputs": [],
   "source": [
    "assgns = sample_N_assignments(f, 50, 10000)"
   ]
  },
  {
   "cell_type": "code",
   "execution_count": 30,
   "metadata": {},
   "outputs": [
    {
     "data": {
      "text/plain": [
       "(25.0064, 3.531141322575465)"
      ]
     },
     "execution_count": 30,
     "metadata": {},
     "output_type": "execute_result"
    }
   ],
   "source": [
    "num_set_to_one = assgns.sum(axis=1)\n",
    "mu = np.mean(num_set_to_one)\n",
    "v = np.std(num_set_to_one)\n",
    "mu, v"
   ]
  },
  {
   "cell_type": "code",
   "execution_count": 31,
   "metadata": {},
   "outputs": [],
   "source": [
    "norm_hist = np.round(np.random.normal(mu, v, 10000))"
   ]
  },
  {
   "cell_type": "code",
   "execution_count": 39,
   "metadata": {},
   "outputs": [
    {
     "data": {
      "image/png": "[encoded data removed]",
      "text/plain": [
       "<Figure size 864x576 with 1 Axes>"
      ]
     },
     "metadata": {},
     "output_type": "display_data"
    }
   ],
   "source": [
    "plt.figure(figsize=(12, 8))\n",
    "plt.hist(num_assigned, alpha=0.6, bins=100, label='distribution of ')\n",
    "plt.hist(norm_hist, alpha=0.6, bins=100, label='integer-rounded Guassian with mean and variance same as previous')\n",
    "plt.legend()\n",
    "plt.show()"
   ]
  },
  {
   "cell_type": "code",
   "execution_count": 14,
   "metadata": {},
   "outputs": [],
   "source": [
    "# compute a matrix of distances in variables for formula\n",
    "def distances(f, n):\n",
    "    d = np.zeros((n, n), dtype='int64') + len(f)\n",
    "    d1 = d.copy()\n",
    "    return d"
   ]
  },
  {
   "cell_type": "code",
   "execution_count": 15,
   "metadata": {},
   "outputs": [
    {
     "data": {
      "text/plain": [
       "array([[20, 20, 20, 20, 20, 20, 20, 20, 20, 20],\n",
       "       [20, 20, 20, 20, 20, 20, 20, 20, 20, 20],\n",
       "       [20, 20, 20, 20, 20, 20, 20, 20, 20, 20],\n",
       "       [20, 20, 20, 20, 20, 20, 20, 20, 20, 20],\n",
       "       [20, 20, 20, 20, 20, 20, 20, 20, 20, 20],\n",
       "       [20, 20, 20, 20, 20, 20, 20, 20, 20, 20],\n",
       "       [20, 20, 20, 20, 20, 20, 20, 20, 20, 20],\n",
       "       [20, 20, 20, 20, 20, 20, 20, 20, 20, 20],\n",
       "       [20, 20, 20, 20, 20, 20, 20, 20, 20, 20],\n",
       "       [20, 20, 20, 20, 20, 20, 20, 20, 20, 20]])"
      ]
     },
     "execution_count": 15,
     "metadata": {},
     "output_type": "execute_result"
    }
   ],
   "source": [
    "distances(f, 10)"
   ]
  },
  {
   "cell_type": "code",
   "execution_count": null,
   "metadata": {},
   "outputs": [],
   "source": []
  }
 ],
 "metadata": {
  "kernelspec": {
   "display_name": "Python 3",
   "language": "python",
   "name": "python3"
  },
  "language_info": {
   "codemirror_mode": {
    "name": "ipython",
    "version": 3
   },
   "file_extension": ".py",
   "mimetype": "text/x-python",
   "name": "python",
   "nbconvert_exporter": "python",
   "pygments_lexer": "ipython3",
   "version": "3.7.3"
  }
 },
 "nbformat": 4,
 "nbformat_minor": 2
}
